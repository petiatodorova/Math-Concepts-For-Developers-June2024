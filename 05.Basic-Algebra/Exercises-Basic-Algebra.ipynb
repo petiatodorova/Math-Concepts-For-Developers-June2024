{
 "cells": [
  {
   "cell_type": "code",
   "execution_count": 1,
   "id": "80b1fe73-df44-49a2-9e5a-8908b8507679",
   "metadata": {},
   "outputs": [],
   "source": [
    "import numpy.polynomial.polynomial as p"
   ]
  },
  {
   "cell_type": "code",
   "execution_count": 6,
   "id": "6acd1b0d-6c48-4a9f-b0e5-0bf63ea74af1",
   "metadata": {},
   "outputs": [
    {
     "data": {
      "text/plain": [
       "array([-10.,   5.,   2.,   0.,   3.])"
      ]
     },
     "execution_count": 6,
     "metadata": {},
     "output_type": "execute_result"
    }
   ],
   "source": [
    "p.polyadd([-8, 5, 2], [-2, 0, 0, 0, 3])"
   ]
  },
  {
   "cell_type": "code",
   "execution_count": 3,
   "id": "c527843b-9e37-4f47-93e7-6ca581fea44e",
   "metadata": {},
   "outputs": [
    {
     "data": {
      "text/plain": [
       "array([ 16., -10.,  -4.,   0., -24.,  15.,   6.])"
      ]
     },
     "execution_count": 3,
     "metadata": {},
     "output_type": "execute_result"
    }
   ],
   "source": [
    "p.polymul([-8, 5, 2], [-2, 0, 0, 0, 3])"
   ]
  },
  {
   "cell_type": "code",
   "execution_count": 10,
   "id": "e70780a0-e562-4844-9942-1dbf5c092397",
   "metadata": {},
   "outputs": [
    {
     "name": "stdout",
     "output_type": "stream",
     "text": [
      "4\n"
     ]
    }
   ],
   "source": [
    "set1 = {1, 2, 3, 4}\n",
    "set2 = {3, 4, 5, 10, 3, 5, 10, 3, 3}\n",
    "print(len(set2))"
   ]
  },
  {
   "cell_type": "code",
   "execution_count": 11,
   "id": "9a2c2d3b-7347-4fd1-a98a-e06c1f35891a",
   "metadata": {},
   "outputs": [
    {
     "name": "stdout",
     "output_type": "stream",
     "text": [
      "True\n"
     ]
    }
   ],
   "source": [
    "print(1 in set1)"
   ]
  },
  {
   "cell_type": "code",
   "execution_count": 12,
   "id": "c72d7079-ba53-4a84-84df-22b36038dbd3",
   "metadata": {},
   "outputs": [
    {
     "name": "stdout",
     "output_type": "stream",
     "text": [
      "True\n"
     ]
    }
   ],
   "source": [
    "print(10 not in set1)"
   ]
  },
  {
   "cell_type": "code",
   "execution_count": 13,
   "id": "47198a95-adc0-4711-b52f-a286bbdaf7dc",
   "metadata": {},
   "outputs": [
    {
     "name": "stdout",
     "output_type": "stream",
     "text": [
      "True\n"
     ]
    }
   ],
   "source": [
    "print({1, 2}.issubset(set1))"
   ]
  },
  {
   "cell_type": "code",
   "execution_count": 14,
   "id": "5d2f0045-46e4-4c93-bf28-cd86424841ea",
   "metadata": {},
   "outputs": [
    {
     "name": "stdout",
     "output_type": "stream",
     "text": [
      "{1, 2, 3, 4, 5, 10}\n"
     ]
    }
   ],
   "source": [
    "print(set1.union(set2))"
   ]
  },
  {
   "cell_type": "code",
   "execution_count": 15,
   "id": "8b284fd5-8dd8-47c7-a00e-d5e7f0ab0723",
   "metadata": {},
   "outputs": [
    {
     "name": "stdout",
     "output_type": "stream",
     "text": [
      "{1, 2}\n"
     ]
    }
   ],
   "source": [
    "print(set1.difference(set2))"
   ]
  },
  {
   "cell_type": "code",
   "execution_count": 16,
   "id": "804eda37-6c63-4376-8d2c-9ba0245dac4d",
   "metadata": {},
   "outputs": [
    {
     "name": "stdout",
     "output_type": "stream",
     "text": [
      "{10, 5}\n"
     ]
    }
   ],
   "source": [
    "print(set2.difference(set1))"
   ]
  },
  {
   "cell_type": "code",
   "execution_count": 17,
   "id": "1d8be7c5-4ef0-443a-b717-554621781481",
   "metadata": {},
   "outputs": [
    {
     "name": "stdout",
     "output_type": "stream",
     "text": [
      "{1, 2, 5, 10}\n"
     ]
    }
   ],
   "source": [
    "print(set1.symmetric_difference(set2))"
   ]
  },
  {
   "cell_type": "code",
   "execution_count": 18,
   "id": "f28ff18d-ae99-452e-a743-b35863903d5c",
   "metadata": {},
   "outputs": [
    {
     "data": {
      "image/png": "[encoded data removed]",
      "text/latex": [
       "$\\displaystyle \\left\\{-10, -9, -8, -7, -6, -5, -4, -3, -2, -1, 0, 1, 2, 3, 4, 5, 6, 7, 8, 9, 10\\right\\}$"
      ],
      "text/plain": [
       "{-10, -9, -8, -7, -6, -5, -4, -3, -2, -1, 0, 1, 2, 3, 4, 5, 6, 7, 8, 9, 10}"
      ]
     },
     "execution_count": 18,
     "metadata": {},
     "output_type": "execute_result"
    }
   ],
   "source": [
    "{x for x in range(-10, 11)}"
   ]
  },
  {
   "cell_type": "code",
   "execution_count": 19,
   "id": "d89def60-3399-49b0-9d20-4380b6b1879e",
   "metadata": {},
   "outputs": [
    {
     "data": {
      "image/png": "[encoded data removed]",
      "text/latex": [
       "$\\displaystyle \\left\\{0, 1, 4, 9, 16, 25, 36, 49, 64, 81, 100\\right\\}$"
      ],
      "text/plain": [
       "{0, 1, 4, 9, 16, 25, 36, 49, 64, 81, 100}"
      ]
     },
     "execution_count": 19,
     "metadata": {},
     "output_type": "execute_result"
    }
   ],
   "source": [
    "{x**2 for x in range(-10, 11)}"
   ]
  },
  {
   "cell_type": "code",
   "execution_count": 20,
   "id": "20a23f40-d9ba-4b07-8e0a-b61d7f374d91",
   "metadata": {},
   "outputs": [
    {
     "data": {
      "image/png": "[encoded data removed]",
      "text/latex": [
       "$\\displaystyle \\left\\{1, 2, 3, 4, 5, 10\\right\\}$"
      ],
      "text/plain": [
       "{1, 2, 3, 4, 5, 10}"
      ]
     },
     "execution_count": 20,
     "metadata": {},
     "output_type": "execute_result"
    }
   ],
   "source": [
    "set1 | set2"
   ]
  },
  {
   "cell_type": "code",
   "execution_count": 22,
   "id": "690f8eb1-85ca-42ee-a5c4-485c2d6a5b53",
   "metadata": {},
   "outputs": [
    {
     "data": {
      "image/png": "[encoded data removed]",
      "text/latex": [
       "$\\displaystyle \\left\\{3, 4\\right\\}$"
      ],
      "text/plain": [
       "{3, 4}"
      ]
     },
     "execution_count": 22,
     "metadata": {},
     "output_type": "execute_result"
    }
   ],
   "source": [
    "set1 & set2"
   ]
  },
  {
   "cell_type": "code",
   "execution_count": 23,
   "id": "1b38b49d-bd89-4a8b-bc96-cd95dd71bf28",
   "metadata": {},
   "outputs": [
    {
     "data": {
      "image/png": "[encoded data removed]",
      "text/latex": [
       "$\\displaystyle \\left\\{1, 2, 3, 4\\right\\}$"
      ],
      "text/plain": [
       "{1, 2, 3, 4}"
      ]
     },
     "execution_count": 23,
     "metadata": {},
     "output_type": "execute_result"
    }
   ],
   "source": [
    "{a for a in set1}"
   ]
  },
  {
   "cell_type": "code",
   "execution_count": 24,
   "id": "b8d75bf3-424b-4fd7-88f2-197733bf8c94",
   "metadata": {},
   "outputs": [
    {
     "data": {
      "image/png": "[encoded data removed]",
      "text/latex": [
       "$\\displaystyle \\left\\{3, 4, 5, 10\\right\\}$"
      ],
      "text/plain": [
       "{3, 4, 5, 10}"
      ]
     },
     "execution_count": 24,
     "metadata": {},
     "output_type": "execute_result"
    }
   ],
   "source": [
    "{b for b in set2}"
   ]
  },
  {
   "cell_type": "code",
   "execution_count": 26,
   "id": "936d6b5a-3ee1-4bc9-95ae-99f0d638f795",
   "metadata": {},
   "outputs": [
    {
     "data": {
      "image/png": "[encoded data removed]",
      "text/latex": [
       "$\\displaystyle \\left\\{\\left( 2, \\  3\\right), \\left( 2, \\  4\\right), \\left( 2, \\  5\\right), \\left( 2, \\  10\\right), \\left( 3, \\  3\\right), \\left( 3, \\  4\\right), \\left( 3, \\  5\\right), \\left( 3, \\  10\\right), \\left( 4, \\  3\\right), \\left( 4, \\  4\\right), \\left( 4, \\  5\\right), \\left( 4, \\  10\\right)\\right\\}$"
      ],
      "text/plain": [
       "{(2, 3), (2, 4), (2, 5), (2, 10), (3, 3), (3, 4), (3, 5), (3, 10), (4, 3), (4,\n",
       " 4), (4, 5), (4, 10)}"
      ]
     },
     "execution_count": 26,
     "metadata": {},
     "output_type": "execute_result"
    }
   ],
   "source": [
    "{(a, b) for a in set1 for b in set2 if a != 1}"
   ]
  },
  {
   "cell_type": "code",
   "execution_count": 28,
   "id": "423c13e5-af78-4cab-ade8-7060b1945a9c",
   "metadata": {},
   "outputs": [
    {
     "name": "stdout",
     "output_type": "stream",
     "text": [
      "[(1, 10), (1, 3), (1, 4), (1, 5), (2, 10), (2, 3), (2, 4), (2, 5), (3, 10), (3, 3), (3, 4), (3, 5), (4, 10), (4, 3), (4, 4), (4, 5)]\n"
     ]
    },
    {
     "data": {
      "image/png": "[encoded data removed]",
      "text/latex": [
       "$\\displaystyle \\left\\{\\left( 1, \\  3\\right), \\left( 1, \\  4\\right), \\left( 1, \\  5\\right), \\left( 1, \\  10\\right), \\left( 2, \\  3\\right), \\left( 2, \\  4\\right), \\left( 2, \\  5\\right), \\left( 2, \\  10\\right), \\left( 3, \\  3\\right), \\left( 3, \\  4\\right), \\left( 3, \\  5\\right), \\left( 3, \\  10\\right), \\left( 4, \\  3\\right), \\left( 4, \\  4\\right), \\left( 4, \\  5\\right), \\left( 4, \\  10\\right)\\right\\}$"
      ],
      "text/plain": [
       "{(1, 3), (1, 4), (1, 5), (1, 10), (2, 3), (2, 4), (2, 5), (2, 10), (3, 3), (3,\n",
       " 4), (3, 5), (3, 10), (4, 3), (4, 4), (4, 5), (4, 10)}"
      ]
     },
     "execution_count": 28,
     "metadata": {},
     "output_type": "execute_result"
    }
   ],
   "source": [
    "pairs = []\n",
    "for a in set1:\n",
    "    for b in set2:\n",
    "        pair = (a, b)\n",
    "        pairs.append(pair)\n",
    "print(pairs)\n",
    "{m for m in pairs}"
   ]
  },
  {
   "cell_type": "code",
   "execution_count": null,
   "id": "a360ee54-d423-45e1-b6b0-a384551a3f2a",
   "metadata": {},
   "outputs": [],
   "source": []
  }
 ],
 "metadata": {
  "kernelspec": {
   "display_name": "Python 3 (ipykernel)",
   "language": "python",
   "name": "python3"
  },
  "language_info": {
   "codemirror_mode": {
    "name": "ipython",
    "version": 3
   },
   "file_extension": ".py",
   "mimetype": "text/x-python",
   "name": "python",
   "nbconvert_exporter": "python",
   "pygments_lexer": "ipython3",
   "version": "3.11.7"
  }
 },
 "nbformat": 4,
 "nbformat_minor": 5
}
