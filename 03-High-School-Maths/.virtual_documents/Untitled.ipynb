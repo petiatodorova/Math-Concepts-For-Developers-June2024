


print(42)


42


a


3 + 5 + 7 # sum numbers


2 ** 5 # 2 to the 5th degree


[1, 2, 3]


[1, 2, 3] + [4]


a = 5 # assign 5 to a


a



