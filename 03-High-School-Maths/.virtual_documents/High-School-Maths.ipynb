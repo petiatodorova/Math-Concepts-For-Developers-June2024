


print(42)


42


# a


3 + 5 + 7 # sum numbers


2 ** 5 # 2 to the 5th degree


[1, 2, 3]


[1, 2, 3] + [4]








a = 5 # assign 5 to a


a


total = 0
for i in range (1, 6):
    total += i
print(total)

#second way
sum(range(1,600_000))


def solve_linear_equation(a, b):
    if a == 0:
        return []
    else:
        return -b/a


solve_linear_equation(0, 0)


print(solve_linear_equation(5, 5)) 
print(solve_linear_equation(5, 0)) 
print(solve_linear_equation(0, 5))
print(solve_linear_equation(2.5, -5.3)) 


solve_linear_equation(5, 5) 


solve_linear_equation(5, 0) 


solve_linear_equation(0, 5)
