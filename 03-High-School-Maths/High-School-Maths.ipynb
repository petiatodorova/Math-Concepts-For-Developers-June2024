{
 "cells": [
  {
   "cell_type": "markdown",
   "id": "0cbfb400-8f27-48bb-8af4-903ed169cdc0",
   "metadata": {},
   "source": [
    "# High School Maths\n",
    "## Demo\n",
    "Hello! This is my first Markdown!\n",
    "Here is some math:\n",
    "$$ y = ax + b $$"
   ]
  },
  {
   "cell_type": "code",
   "execution_count": 1,
   "id": "2d5b4aec-e972-4d6f-8de4-d3a0b4e3159a",
   "metadata": {},
   "outputs": [
    {
     "name": "stdout",
     "output_type": "stream",
     "text": [
      "42\n"
     ]
    }
   ],
   "source": [
    "print(42)"
   ]
  },
  {
   "cell_type": "code",
   "execution_count": 2,
   "id": "b5c989ad-d124-492e-9367-e11310914e93",
   "metadata": {},
   "outputs": [
    {
     "data": {
      "text/plain": [
       "42"
      ]
     },
     "execution_count": 2,
     "metadata": {},
     "output_type": "execute_result"
    }
   ],
   "source": [
    "42"
   ]
  },
  {
   "cell_type": "code",
   "execution_count": 3,
   "id": "a206e8c7-cd04-4522-8fda-76d73648db0a",
   "metadata": {},
   "outputs": [],
   "source": [
    "# a"
   ]
  },
  {
   "cell_type": "code",
   "execution_count": 4,
   "id": "20a170c1-0ac3-4fae-bb05-32fe4686b545",
   "metadata": {},
   "outputs": [
    {
     "data": {
      "text/plain": [
       "15"
      ]
     },
     "execution_count": 4,
     "metadata": {},
     "output_type": "execute_result"
    }
   ],
   "source": [
    "3 + 5 + 7 # sum numbers"
   ]
  },
  {
   "cell_type": "code",
   "execution_count": 5,
   "id": "79550b20-5beb-49f0-9607-0c0b2b90ef27",
   "metadata": {},
   "outputs": [
    {
     "data": {
      "text/plain": [
       "32"
      ]
     },
     "execution_count": 5,
     "metadata": {},
     "output_type": "execute_result"
    }
   ],
   "source": [
    "2 ** 5 # 2 to the 5th degree"
   ]
  },
  {
   "cell_type": "code",
   "execution_count": 6,
   "id": "8fc97637-b08f-4915-aaa1-4ab7d24ad313",
   "metadata": {},
   "outputs": [
    {
     "data": {
      "text/plain": [
       "[1, 2, 3]"
      ]
     },
     "execution_count": 6,
     "metadata": {},
     "output_type": "execute_result"
    }
   ],
   "source": [
    "[1, 2, 3]"
   ]
  },
  {
   "cell_type": "code",
   "execution_count": 7,
   "id": "2e1d0c72-cb0b-4ac7-934a-52f7489569e2",
   "metadata": {},
   "outputs": [
    {
     "data": {
      "text/plain": [
       "[1, 2, 3, 4]"
      ]
     },
     "execution_count": 7,
     "metadata": {},
     "output_type": "execute_result"
    }
   ],
   "source": [
    "[1, 2, 3] + [4]"
   ]
  },
  {
   "cell_type": "markdown",
   "id": "c210747e-1d7b-4bab-9050-c7fae39c925b",
   "metadata": {},
   "source": [
    "### Another subheading\n",
    "#### Section 1\n",
    "Here is some text"
   ]
  },
  {
   "cell_type": "markdown",
   "id": "40dbfd78-b347-4bb9-a72b-44a1cee9b5d5",
   "metadata": {},
   "source": [
    "### Another subheading\n",
    "#### Section 2\n",
    "Here is some text"
   ]
  },
  {
   "cell_type": "code",
   "execution_count": 8,
   "id": "ebf6a438-af86-4cd5-96a7-22608b746111",
   "metadata": {},
   "outputs": [],
   "source": [
    "a = 5 # assign 5 to a"
   ]
  },
  {
   "cell_type": "code",
   "execution_count": 9,
   "id": "970e5595-f4de-4308-b964-867c17f6b483",
   "metadata": {},
   "outputs": [
    {
     "data": {
      "text/plain": [
       "5"
      ]
     },
     "execution_count": 9,
     "metadata": {},
     "output_type": "execute_result"
    }
   ],
   "source": [
    "a"
   ]
  },
  {
   "cell_type": "code",
   "execution_count": 16,
   "id": "62b5a34d-b790-44cc-aabe-2a4290f3c813",
   "metadata": {},
   "outputs": [
    {
     "name": "stdout",
     "output_type": "stream",
     "text": [
      "15\n"
     ]
    },
    {
     "data": {
      "text/plain": [
       "179999700000"
      ]
     },
     "execution_count": 16,
     "metadata": {},
     "output_type": "execute_result"
    }
   ],
   "source": [
    "total = 0\n",
    "for i in range (1, 6):\n",
    "    total += i\n",
    "print(total)\n",
    "\n",
    "#second way\n",
    "sum(range(1,600_000))"
   ]
  },
  {
   "cell_type": "code",
   "execution_count": 17,
   "id": "be78bf4c-f2eb-4d65-a9c3-7ee98c58b77a",
   "metadata": {},
   "outputs": [],
   "source": [
    "def solve_linear_equation(a, b):\n",
    "    if a == 0:\n",
    "        return []\n",
    "    else:\n",
    "        return -b/a"
   ]
  },
  {
   "cell_type": "code",
   "execution_count": 22,
   "id": "6ded6a49-f774-4345-b8a5-673c935e3fbe",
   "metadata": {},
   "outputs": [
    {
     "data": {
      "text/plain": [
       "[]"
      ]
     },
     "execution_count": 22,
     "metadata": {},
     "output_type": "execute_result"
    }
   ],
   "source": [
    "solve_linear_equation(0, 0)"
   ]
  },
  {
   "cell_type": "code",
   "execution_count": 27,
   "id": "d6d512a1-202c-46e9-92a3-5b78b9c52ddb",
   "metadata": {},
   "outputs": [
    {
     "name": "stdout",
     "output_type": "stream",
     "text": [
      "-1.0\n",
      "0.0\n",
      "[]\n",
      "2.12\n"
     ]
    }
   ],
   "source": [
    "print(solve_linear_equation(5, 5)) \n",
    "print(solve_linear_equation(5, 0)) \n",
    "print(solve_linear_equation(0, 5))\n",
    "print(solve_linear_equation(2.5, -5.3)) "
   ]
  },
  {
   "cell_type": "code",
   "execution_count": 24,
   "id": "e6b9a8c1-69df-4c48-a138-3b7f2b7e7dd6",
   "metadata": {},
   "outputs": [
    {
     "data": {
      "text/plain": [
       "-1.0"
      ]
     },
     "execution_count": 24,
     "metadata": {},
     "output_type": "execute_result"
    }
   ],
   "source": [
    "solve_linear_equation(5, 5) "
   ]
  },
  {
   "cell_type": "code",
   "execution_count": 25,
   "id": "32606602-549e-4e60-be92-0dc363dde1c4",
   "metadata": {},
   "outputs": [
    {
     "data": {
      "text/plain": [
       "0.0"
      ]
     },
     "execution_count": 25,
     "metadata": {},
     "output_type": "execute_result"
    }
   ],
   "source": [
    "solve_linear_equation(5, 0) "
   ]
  },
  {
   "cell_type": "code",
   "execution_count": 26,
   "id": "94ad916e-deaa-4d12-95bc-6aaae49c85ff",
   "metadata": {},
   "outputs": [
    {
     "data": {
      "text/plain": [
       "[]"
      ]
     },
     "execution_count": 26,
     "metadata": {},
     "output_type": "execute_result"
    }
   ],
   "source": [
    "solve_linear_equation(0, 5)"
   ]
  }
 ],
 "metadata": {
  "kernelspec": {
   "display_name": "Python 3 (ipykernel)",
   "language": "python",
   "name": "python3"
  },
  "language_info": {
   "codemirror_mode": {
    "name": "ipython",
    "version": 3
   },
   "file_extension": ".py",
   "mimetype": "text/x-python",
   "name": "python",
   "nbconvert_exporter": "python",
   "pygments_lexer": "ipython3",
   "version": "3.11.7"
  }
 },
 "nbformat": 4,
 "nbformat_minor": 5
}
