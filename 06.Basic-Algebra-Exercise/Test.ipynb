{
 "cells": [
  {
   "cell_type": "code",
   "execution_count": 40,
   "id": "1fdabe56-1121-43ab-bd72-a4ae6bbb326f",
   "metadata": {},
   "outputs": [],
   "source": [
    "import itertools as it\n",
    "import functools as ft\n",
    "import toolz as tz\n",
    "import numpy as np"
   ]
  },
  {
   "cell_type": "code",
   "execution_count": 1,
   "id": "3c614c60-03bd-48d2-b897-e91161134b5e",
   "metadata": {},
   "outputs": [],
   "source": [
    "numbers = list(range(1, 11))"
   ]
  },
  {
   "cell_type": "code",
   "execution_count": 2,
   "id": "4349d982-95ab-43ba-b2d0-d54aaa6da9f1",
   "metadata": {},
   "outputs": [
    {
     "data": {
      "text/plain": [
       "[1, 2, 3, 4, 5, 6, 7, 8, 9, 10]"
      ]
     },
     "execution_count": 2,
     "metadata": {},
     "output_type": "execute_result"
    }
   ],
   "source": [
    "numbers"
   ]
  },
  {
   "cell_type": "markdown",
   "id": "425e1fc4-8b0d-45f9-9a85-afb7ea092035",
   "metadata": {},
   "source": [
    "# Map"
   ]
  },
  {
   "cell_type": "code",
   "execution_count": 3,
   "id": "8b1f9707-d937-476a-8a5f-55cda1377579",
   "metadata": {},
   "outputs": [],
   "source": [
    "numbers2 = list(map(lambda n: n + 2, numbers))"
   ]
  },
  {
   "cell_type": "code",
   "execution_count": 4,
   "id": "11507a6c-fa3d-40cb-89e4-5d6eec11c02d",
   "metadata": {},
   "outputs": [
    {
     "data": {
      "text/plain": [
       "[3, 4, 5, 6, 7, 8, 9, 10, 11, 12]"
      ]
     },
     "execution_count": 4,
     "metadata": {},
     "output_type": "execute_result"
    }
   ],
   "source": [
    "numbers2"
   ]
  },
  {
   "cell_type": "markdown",
   "id": "6e1ea562-d9b3-42d1-9858-d0ec06a95b30",
   "metadata": {},
   "source": [
    "# Filter"
   ]
  },
  {
   "cell_type": "code",
   "execution_count": 5,
   "id": "8360dfa2-121e-4c86-bc6f-f15826dde634",
   "metadata": {},
   "outputs": [
    {
     "data": {
      "text/plain": [
       "[1, 2, 3, 4]"
      ]
     },
     "execution_count": 5,
     "metadata": {},
     "output_type": "execute_result"
    }
   ],
   "source": [
    "list(filter(lambda n: n < 5, numbers))"
   ]
  },
  {
   "cell_type": "code",
   "execution_count": 10,
   "id": "bb338609-799e-4f67-adf4-9cc5a04f9fa3",
   "metadata": {},
   "outputs": [
    {
     "data": {
      "text/plain": [
       "[10, 12]"
      ]
     },
     "execution_count": 10,
     "metadata": {},
     "output_type": "execute_result"
    }
   ],
   "source": [
    "[n * 2 for n in numbers if (n < 7) and (n * 2 >= 9)]"
   ]
  },
  {
   "cell_type": "code",
   "execution_count": 11,
   "id": "04f4c8f7-5f82-4760-ade8-c1be8abfdb58",
   "metadata": {},
   "outputs": [],
   "source": [
    "def summator(a):\n",
    "    def inner_summator(b):\n",
    "        return a + b\n",
    "    return inner_summator"
   ]
  },
  {
   "cell_type": "code",
   "execution_count": 12,
   "id": "6613864e-0b7d-4b27-ba2a-9f383e5e252e",
   "metadata": {},
   "outputs": [],
   "source": [
    "add5 = summator(5)"
   ]
  },
  {
   "cell_type": "code",
   "execution_count": 13,
   "id": "da0c87db-5a9f-49ce-8b0c-5327936135e7",
   "metadata": {},
   "outputs": [
    {
     "data": {
      "text/plain": [
       "[6, 7, 8, 9, 10, 11, 12, 13, 14, 15]"
      ]
     },
     "execution_count": 13,
     "metadata": {},
     "output_type": "execute_result"
    }
   ],
   "source": [
    "[add5(n) for n in numbers]"
   ]
  },
  {
   "cell_type": "code",
   "execution_count": 15,
   "id": "2021d6fe-cf56-44dc-8cbf-fab70f5b2e72",
   "metadata": {},
   "outputs": [],
   "source": [
    "add10 = summator(10)"
   ]
  },
  {
   "cell_type": "code",
   "execution_count": 16,
   "id": "a930a382-92c1-45c4-94d9-47e7d7473efb",
   "metadata": {},
   "outputs": [
    {
     "data": {
      "text/plain": [
       "[17, 19, 21, 23, 25, 27, 29, 31, 33, 35]"
      ]
     },
     "execution_count": 16,
     "metadata": {},
     "output_type": "execute_result"
    }
   ],
   "source": [
    "[add5(n) + add10(n) for n in numbers]"
   ]
  },
  {
   "cell_type": "code",
   "execution_count": 23,
   "id": "9c935df5-de27-41b8-a3a1-d117f399e325",
   "metadata": {},
   "outputs": [
    {
     "data": {
      "text/plain": [
       "[0, 2, 4, 6, 8, 10, 12, 14, 16, 18]"
      ]
     },
     "execution_count": 23,
     "metadata": {},
     "output_type": "execute_result"
    }
   ],
   "source": [
    "list(it.filterfalse(lambda x: x%2, range(20)))"
   ]
  },
  {
   "cell_type": "code",
   "execution_count": 24,
   "id": "aa2fb074-3cc3-4e0f-a8c5-f68e1f64757d",
   "metadata": {},
   "outputs": [
    {
     "data": {
      "text/plain": [
       "[1, 3, 6, 10, 15]"
      ]
     },
     "execution_count": 24,
     "metadata": {},
     "output_type": "execute_result"
    }
   ],
   "source": [
    "list(it.accumulate([1,2,3,4,5]))"
   ]
  },
  {
   "cell_type": "code",
   "execution_count": 27,
   "id": "0dc299dd-b5b1-4d05-a7c1-b0a7e1021134",
   "metadata": {},
   "outputs": [],
   "source": [
    "ft.cache\n",
    "def factorial(n):\n",
    "    return n * factorial(n-1) if n else 1"
   ]
  },
  {
   "cell_type": "code",
   "execution_count": 38,
   "id": "8cb3bd30-ac5f-4957-8494-5d106550017f",
   "metadata": {},
   "outputs": [],
   "source": [
    "def partial(func, /, *args, **keywords):\n",
    "    def newfunc(*fargs, **fkeywords):\n",
    "        newkeywords = {**keywords, **fkeywords}\n",
    "        return func(*args, *fargs, **newkeywords)\n",
    "    newfunc.func = func\n",
    "    newfunc.args = args\n",
    "    newfunc.keywords = keywords\n",
    "    return newfunc"
   ]
  },
  {
   "cell_type": "code",
   "execution_count": 41,
   "id": "a747d6ec-8f90-415c-af69-917fd3219d47",
   "metadata": {},
   "outputs": [
    {
     "data": {
      "text/plain": [
       "array([ 3,  4,  5,  6,  7,  8,  9, 10, 11, 12, 13, 14, 15, 16, 17, 18, 19,\n",
       "       20, 21, 22])"
      ]
     },
     "execution_count": 41,
     "metadata": {},
     "output_type": "execute_result"
    }
   ],
   "source": [
    "np.arange(20) + 3"
   ]
  },
  {
   "cell_type": "code",
   "execution_count": 42,
   "id": "b7b67c76-c630-40f4-b82a-5214c1d0ec3b",
   "metadata": {},
   "outputs": [
    {
     "data": {
      "text/plain": [
       "array([False, False, False, False, False, False, False, False, False,\n",
       "       False, False,  True,  True,  True,  True,  True,  True,  True,\n",
       "        True,  True])"
      ]
     },
     "execution_count": 42,
     "metadata": {},
     "output_type": "execute_result"
    }
   ],
   "source": [
    "np.arange(20) > 10"
   ]
  },
  {
   "cell_type": "code",
   "execution_count": 43,
   "id": "5017291e-7aa6-4aef-8bb7-8af2267ab20e",
   "metadata": {},
   "outputs": [
    {
     "data": {
      "text/plain": [
       "array([ 0,  1,  2,  3,  4,  5,  6,  7,  8,  9, 10, 11, 12, 13, 14, 15, 16,\n",
       "       17, 18, 19])"
      ]
     },
     "execution_count": 43,
     "metadata": {},
     "output_type": "execute_result"
    }
   ],
   "source": [
    "np_nums = np.arange(20)\n",
    "np_nums"
   ]
  },
  {
   "cell_type": "code",
   "execution_count": 49,
   "id": "f3ce9c4c-6156-46bf-b818-63c22ceb75f0",
   "metadata": {},
   "outputs": [
    {
     "data": {
      "text/plain": [
       "[8, 10, 12, 14, 16, 18, 20, 22, 24, 26, 28, 30, 32, 34, 36, 38]"
      ]
     },
     "execution_count": 49,
     "metadata": {},
     "output_type": "execute_result"
    }
   ],
   "source": [
    "list(np_nums[np_nums > 3] * 2)"
   ]
  },
  {
   "cell_type": "code",
   "execution_count": 50,
   "id": "0f87d246-1d44-4e75-9361-b35294d5148a",
   "metadata": {},
   "outputs": [
    {
     "data": {
      "text/plain": [
       "array([ 0,  3,  6,  9, 12, 15, 18, 21, 24, 27, 30, 33, 36, 39, 42, 45, 48,\n",
       "       51, 54, 57])"
      ]
     },
     "execution_count": 50,
     "metadata": {},
     "output_type": "execute_result"
    }
   ],
   "source": [
    "np_nums * 3"
   ]
  },
  {
   "cell_type": "code",
   "execution_count": null,
   "id": "20f10dec-1003-450d-b9be-03c755a0525a",
   "metadata": {},
   "outputs": [],
   "source": []
  }
 ],
 "metadata": {
  "kernelspec": {
   "display_name": "Python 3 (ipykernel)",
   "language": "python",
   "name": "python3"
  },
  "language_info": {
   "codemirror_mode": {
    "name": "ipython",
    "version": 3
   },
   "file_extension": ".py",
   "mimetype": "text/x-python",
   "name": "python",
   "nbconvert_exporter": "python",
   "pygments_lexer": "ipython3",
   "version": "3.11.7"
  }
 },
 "nbformat": 4,
 "nbformat_minor": 5
}
